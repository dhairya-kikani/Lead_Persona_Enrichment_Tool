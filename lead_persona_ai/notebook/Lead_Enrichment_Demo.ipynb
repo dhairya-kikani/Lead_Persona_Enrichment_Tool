{
 "cells": [
  {
   "cell_type": "markdown",
   "id": "94fdf9b9",
   "metadata": {},
   "source": [
    "# Lead Enrichment Demo using LLMs (Groq API)\n",
    "\n",
    "This notebook demonstrates the process of enriching a single lead with a persona, pitch angle, and icebreaker."
   ]
  },
  {
   "cell_type": "code",
   "execution_count": 7,
   "id": "0c1385ec",
   "metadata": {},
   "outputs": [
    {
     "data": {
      "text/plain": [
       "{'Name': 'Sarah Kim',\n",
       " 'Job Title': 'Head of Growth',\n",
       " 'Company': 'Beaconly',\n",
       " 'Industry': 'SaaS',\n",
       " 'LinkedIn': 'https://linkedin.com/in/sarahkim'}"
      ]
     },
     "execution_count": 7,
     "metadata": {},
     "output_type": "execute_result"
    }
   ],
   "source": [
    "import pandas as pd\n",
    "from groq_prompts import generate_persona, generate_pitch_angle, generate_icebreaker\n",
    "\n",
    "# Load leads\n",
    "leads = pd.read_csv(\"leads.csv\")\n",
    "sample_lead = leads.iloc[0].to_dict()\n",
    "sample_lead"
   ]
  },
  {
   "cell_type": "code",
   "execution_count": 2,
   "id": "6a3cca05",
   "metadata": {},
   "outputs": [
    {
     "name": "stdout",
     "output_type": "stream",
     "text": [
      "Persona:\n",
      " Sarah Kim, as the Head of Growth at Beaconly, a SaaS company, is likely focused on driving user acquisition, retention, and revenue growth, with responsibilities including developing and executing go-to-market strategies and metrics-driven growth experiments. With a growth-oriented mindset, Sarah is probably data-driven, innovative, and always looking for opportunities to optimize and improve the customer journey.\n",
      "\n",
      "Pitch Angle:\n",
      " Based on the job title and industry, here's a personalized value pitch angle for the Head of Growth at Beaconly:\n",
      "\n",
      "**Head of Growth Value Pitch Angle:**\n",
      "\n",
      "\"Accelerate Beaconly's growth trajectory by unlocking data-driven insights that fuel customer acquisition, retention, and revenue growth. Leverage our solution to:\n",
      "\n",
      "1. **Optimize Customer Journeys**: Identify friction points and opportunities to enhance the customer experience, driving higher conversion rates and loyalty.\n",
      "2. **Uncover Hidden Growth Opportunities**: Analyze customer behavior and preferences to inform product development, pricing strategies, and targeted marketing initiatives that resonate with your ideal customer.\n",
      "4. **Measure and Amplify Growth Levers**: Track key growth metrics, identify areas for improvement, and make data-driven decisions to maximize ROI on marketing spend and resource allocation.\n",
      "\n",
      "By partnering with us, Beaconly can:\n",
      "\n",
      "* A deeper understanding of customer needs and preferences\n",
      "* Data-driven decision-making to fuel growth initiatives\n",
      "* Increased revenue and customer lifetime value\n",
      "* A\n",
      "\n",
      "Icebreaker:\n",
      " Here's a personalized icebreaker:\n",
      "\n",
      "\"Hi Sarah, I came across Beaconly and your work as Head of Growth, and I have to say - I'm impressed. Your company's mission to [briefly mention something specific about their mission or values] really resonates with me. I'd love to learn more about your growth strategy and see if there's a way I can help support your goals. Looking forward to connecting!\"\n",
      "\n",
      "This opener is personalized because:\n",
      "\n",
      "* It addresses Sarah by her first name, which is friendly and approachable.\n",
      "* It shows that you've taken the time to research her company and values, which demonstrates interest and respect.\n",
      "* It's concise and to the point, which is important for a busy professional like Sarah.\n",
      "\n",
      "Remember to customize the opener according to your research and goals, and A/B test different variations to optimize your LinkedIn outreach!\n"
     ]
    }
   ],
   "source": [
    "# Generate enriched outputs\n",
    "persona = generate_persona(sample_lead)\n",
    "pitch = generate_pitch_angle(sample_lead)\n",
    "icebreaker = generate_icebreaker(sample_lead)\n",
    "\n",
    "print(\"Persona:\\n\", persona)\n",
    "print(\"\\nPitch Angle:\\n\", pitch)\n",
    "print(\"\\nIcebreaker:\\n\", icebreaker)"
   ]
  },
  {
   "cell_type": "markdown",
   "id": "309d3eab",
   "metadata": {},
   "source": [
    "### Summary\n",
    "\n",
    "This notebook successfully enriches a LinkedIn lead using LLMs to generate content that enhances sales outreach. The approach saves time and improves quality."
   ]
  }
 ],
 "metadata": {
  "kernelspec": {
   "display_name": "Python 3 (ipykernel)",
   "language": "python",
   "name": "python3"
  },
  "language_info": {
   "codemirror_mode": {
    "name": "ipython",
    "version": 3
   },
   "file_extension": ".py",
   "mimetype": "text/x-python",
   "name": "python",
   "nbconvert_exporter": "python",
   "pygments_lexer": "ipython3",
   "version": "3.10.16"
  }
 },
 "nbformat": 4,
 "nbformat_minor": 5
}
